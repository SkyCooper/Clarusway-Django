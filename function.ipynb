{
 "cells": [
  {
   "cell_type": "code",
   "execution_count": 2,
   "metadata": {},
   "outputs": [
    {
     "name": "stdout",
     "output_type": "stream",
     "text": [
      "\n",
      "    listen first      \t\n",
      "listen first\n"
     ]
    }
   ],
   "source": [
    "space_string1 = \"\\n    listen first      \\t\"\n",
    "print(space_string1)\n",
    "print(space_string1.strip())"
   ]
  },
  {
   "cell_type": "code",
   "execution_count": 4,
   "metadata": {},
   "outputs": [
    {
     "name": "stdout",
     "output_type": "stream",
     "text": [
      "\n",
      "\n",
      "ahmet\n",
      "mehmet        \n",
      "ahmet\n",
      "mehmet\n"
     ]
    }
   ],
   "source": [
    "var = '\\n\\nahmet\\nmehmet        '\n",
    "print(var)\n",
    "print(var.strip())"
   ]
  },
  {
   "cell_type": "code",
   "execution_count": 16,
   "metadata": {},
   "outputs": [
    {
     "name": "stdout",
     "output_type": "stream",
     "text": [
      "nteroperabilit\n",
      "\n",
      "teroperability\n",
      "\n",
      "interoperabilit\n",
      "interoperabil\n"
     ]
    }
   ],
   "source": [
    "source_string = \"interoperability\"\n",
    "print(source_string.strip(\"yi\"))  \n",
    "# removes trailing \"y\" or \"i\" or \"yi\" or \"iy\" from both sides  BÜTÜN KOMBİNASYOLARINA BAKAR.\n",
    "\n",
    "print()\n",
    "\n",
    "print(source_string.lstrip(\"in\"))  \n",
    "# removes \"i\" or \"n\" or \"in\" or \"ni\" from the left side\n",
    "\n",
    "print()\n",
    "\n",
    "print(source_string.rstrip(\"yi\"))  \n",
    "print(source_string.rstrip(\"y, t, i, n\"))  \n",
    "# removes \"y\" or \"t\" or \"yt\" or \"ty\" from the right side"
   ]
  },
  {
   "cell_type": "code",
   "execution_count": 22,
   "metadata": {},
   "outputs": [
    {
     "name": "stdout",
     "output_type": "stream",
     "text": [
      "In God we Trust\n"
     ]
    }
   ],
   "source": [
    "text = \"Ine Goed weee Trust\"\n",
    "print(text.replace(\"e\",\"\",4)) # ilk e'yi sildi"
   ]
  },
  {
   "cell_type": "code",
   "execution_count": 24,
   "metadata": {},
   "outputs": [
    {
     "data": {
      "text/plain": [
       "'3.15, 5.367, 7.3000'"
      ]
     },
     "execution_count": 24,
     "metadata": {},
     "output_type": "execute_result"
    }
   ],
   "source": [
    "text = \"{:.2f}, {:.3f}, {:.4f}\".format(3.1463, 5.367, 7.3)\n",
    "        #.dan sonra 2 basamak aldı, 3 basamak aldı ,4 basamak aldı\n",
    "text"
   ]
  },
  {
   "cell_type": "code",
   "execution_count": 26,
   "metadata": {},
   "outputs": [
    {
     "name": "stdout",
     "output_type": "stream",
     "text": [
      "<built-in method format of str object at 0x0000023DE20805D0>\n"
     ]
    }
   ],
   "source": [
    "tex = \"formatlama satırı '{:>20}'@burada ilk kel biter. ikinci kelime başlar.@ '{:<20}'\". format\n",
    "print(tex)"
   ]
  },
  {
   "cell_type": "code",
   "execution_count": 29,
   "metadata": {},
   "outputs": [
    {
     "data": {
      "text/plain": [
       "'a'"
      ]
     },
     "execution_count": 29,
     "metadata": {},
     "output_type": "execute_result"
    }
   ],
   "source": [
    "list(\"clarusway\")[2]"
   ]
  },
  {
   "cell_type": "code",
   "execution_count": 30,
   "metadata": {},
   "outputs": [
    {
     "name": "stdout",
     "output_type": "stream",
     "text": [
      "[1, 2, 3]\n"
     ]
    },
    {
     "data": {
      "text/plain": [
       "[1, 2, 3]"
      ]
     },
     "execution_count": 30,
     "metadata": {},
     "output_type": "execute_result"
    }
   ],
   "source": [
    "a = [1, 2, 3]\n",
    "print(a)\n",
    "list(a)"
   ]
  },
  {
   "cell_type": "code",
   "execution_count": 38,
   "metadata": {},
   "outputs": [
    {
     "name": "stdout",
     "output_type": "stream",
     "text": [
      "['USA', 'Brasil', 'UK', 'Germany', 'Turkey', 'New Zealand']\n",
      "('USA', 'Brasil', 'UK', 'Germany', 'Turkey', 'New Zealand')\n",
      "{'Turkey', 'Germany', 'UK', 'Brasil', 'USA', 'New Zealand'}\n"
     ]
    }
   ],
   "source": [
    "country = ['USA', 'Brasil', 'UK', 'Germany', 'Turkey', 'New Zealand']\n",
    "print(country)\n",
    "country1 = ('USA', 'Brasil', 'UK', 'Germany', 'Turkey', 'New Zealand')\n",
    "print(country1)\n",
    "country2 = {'USA', 'Brasil', 'UK', 'Germany', 'Turkey', 'New Zealand'}\n",
    "print(country2)"
   ]
  },
  {
   "cell_type": "code",
   "execution_count": 39,
   "metadata": {},
   "outputs": [
    {
     "name": "stdout",
     "output_type": "stream",
     "text": [
      "['I', ' ', 'q', 'u', 'i', 't', ' ', 's', 'm', 'o', 'k', 'i', 'n', 'g']\n",
      "['I quit smoking']\n"
     ]
    }
   ],
   "source": [
    "string_1 = 'I quit smoking'\n",
    "\n",
    "new_list_1 = list(string_1)  # we created multi element list\n",
    "print(new_list_1)\n",
    "\n",
    "new_list_2 = [string_1]  # this is a single element list\n",
    "print(new_list_2)"
   ]
  },
  {
   "cell_type": "code",
   "execution_count": 42,
   "metadata": {},
   "outputs": [
    {
     "name": "stdout",
     "output_type": "stream",
     "text": [
      "['USA', 'Brasil', 'UK', 'Germany', 'Turkey', 'New Zealand']\n",
      "['USA', 'Brasil', 'UK', 'Germany', 'Turkey', 'New Zealand', 'dede']\n"
     ]
    }
   ],
   "source": [
    "country = ['USA', 'Brasil', 'UK', 'Germany', 'Turkey', 'New Zealand']\n",
    "print(country)\n",
    "country.append(\"dede\")\n",
    "print(country)"
   ]
  },
  {
   "cell_type": "code",
   "execution_count": 45,
   "metadata": {},
   "outputs": [
    {
     "name": "stdout",
     "output_type": "stream",
     "text": [
      "[] []\n"
     ]
    }
   ],
   "source": [
    "listem= []\n",
    "listem1 = list()\n",
    "print(listem,listem1)"
   ]
  },
  {
   "cell_type": "code",
   "execution_count": 51,
   "metadata": {},
   "outputs": [
    {
     "name": "stdout",
     "output_type": "stream",
     "text": [
      "ali\n",
      "keli\n"
     ]
    }
   ],
   "source": [
    "kardeşler = [\"ali\", \"veli\"]\n",
    "kardeşler.append(\"deli\")  #ekledi\n",
    "print(kardeşler[0])\n",
    "kardeşler.insert(0,\"keli\")  #ekledi\n",
    "print(kardeşler[0])"
   ]
  },
  {
   "cell_type": "code",
   "execution_count": 60,
   "metadata": {},
   "outputs": [
    {
     "name": "stdout",
     "output_type": "stream",
     "text": [
      "[1, '1', []]\n",
      "[1, '1', [], 'dene']\n",
      "[1, '1', [], 'dene', '1']\n",
      "[1, [], 'dene', '1']\n",
      "[1, [], 'dene', '1', 'enson']\n"
     ]
    }
   ],
   "source": [
    "empty = list()\n",
    "empty.append(1)\n",
    "empty.append(\"1\")\n",
    "empty.append([])\n",
    "print(empty)\n",
    "empty.insert(5,\"dene\")\n",
    "print(empty)\n",
    "empty.append(\"1\")\n",
    "print(empty)\n",
    "empty.remove(\"1\")\n",
    "print(empty)\n",
    "empty.insert(55, \"enson\")\n",
    "print(empty)"
   ]
  },
  {
   "cell_type": "code",
   "execution_count": 63,
   "metadata": {},
   "outputs": [
    {
     "name": "stdout",
     "output_type": "stream",
     "text": [
      "['Addis Ababa', 'Istanbul', 'New York', 'Seoul', 'Stockholm', 'Sydney']\n",
      "['Sydney', 'Stockholm', 'Seoul', 'New York', 'Istanbul', 'Addis Ababa']\n"
     ]
    }
   ],
   "source": [
    "city = ['New York', 'Stockholm', 'Istanbul', 'Seoul', 'Sydney', 'Addis Ababa']\n",
    "city.sort()  # lists the items in alphabetical order\n",
    "print(city)\n",
    "city.reverse()\n",
    "print(city)"
   ]
  },
  {
   "cell_type": "code",
   "execution_count": 66,
   "metadata": {},
   "outputs": [
    {
     "ename": "SyntaxError",
     "evalue": "cannot use starred expression here (520889786.py, line 4)",
     "output_type": "error",
     "traceback": [
      "\u001b[1;36m  Input \u001b[1;32mIn [66]\u001b[1;36m\u001b[0m\n\u001b[1;33m    newlist = (*my_list)\u001b[0m\n\u001b[1;37m               ^\u001b[0m\n\u001b[1;31mSyntaxError\u001b[0m\u001b[1;31m:\u001b[0m cannot use starred expression here\n"
     ]
    }
   ],
   "source": [
    "my_list = [1, 3, 5, 7]\n",
    "print(my_list * 3)\n",
    "print(*my_list)\n",
    "print(len(my_list * 3)) # 12 elemanı vardır."
   ]
  },
  {
   "cell_type": "code",
   "execution_count": 77,
   "metadata": {},
   "outputs": [
    {
     "data": {
      "text/plain": [
       "[1, 3, 5, 8, 77, 99]"
      ]
     },
     "execution_count": 77,
     "metadata": {},
     "output_type": "execute_result"
    }
   ],
   "source": [
    "sayılar1 = [5, 8, 1, 77, 3, 99]\n",
    "sayılar1.sort()\n",
    "sayılar1       # küçükten büyüğe sıraladı."
   ]
  },
  {
   "cell_type": "code",
   "execution_count": 78,
   "metadata": {},
   "outputs": [
    {
     "name": "stdout",
     "output_type": "stream",
     "text": [
      "[1, 3, 5, 8, 77, 99]\n",
      "[99, 77, 8, 5, 3, 1]\n"
     ]
    }
   ],
   "source": [
    "print(sayılar1)\n",
    "sayılar1.reverse()\n",
    "print(sayılar1)"
   ]
  },
  {
   "cell_type": "code",
   "execution_count": 92,
   "metadata": {},
   "outputs": [
    {
     "data": {
      "text/plain": [
       "[[-5, 1], [1, 3], [4, -4]]"
      ]
     },
     "execution_count": 92,
     "metadata": {},
     "output_type": "execute_result"
    }
   ],
   "source": [
    "list_1 = [[1,3], [4, -4], [-5,1]]\n",
    "list_1.sort()\n",
    "list_1\n"
   ]
  },
  {
   "cell_type": "code",
   "execution_count": 102,
   "metadata": {},
   "outputs": [
    {
     "data": {
      "text/plain": [
       "65"
      ]
     },
     "execution_count": 102,
     "metadata": {},
     "output_type": "execute_result"
    }
   ],
   "source": [
    "ord('A')"
   ]
  },
  {
   "cell_type": "code",
   "execution_count": 103,
   "metadata": {},
   "outputs": [
    {
     "data": {
      "text/plain": [
       "'A'"
      ]
     },
     "execution_count": 103,
     "metadata": {},
     "output_type": "execute_result"
    }
   ],
   "source": [
    "chr(65)"
   ]
  },
  {
   "cell_type": "code",
   "execution_count": 112,
   "metadata": {},
   "outputs": [
    {
     "name": "stdout",
     "output_type": "stream",
     "text": [
      "['blue', 'purple']\n",
      "<class 'list'>\n",
      "<class 'str'>\n"
     ]
    }
   ],
   "source": [
    "colors = ['red', 'purple', 'blue', 'yellow', 'green']\n",
    "print(colors[2:0:-1])\n",
    "print(type(colors))\n",
    "print(type(colors[0]))"
   ]
  },
  {
   "cell_type": "code",
   "execution_count": 113,
   "metadata": {},
   "outputs": [
    {
     "name": "stdout",
     "output_type": "stream",
     "text": [
      "2\n",
      "Arda\n",
      "New York\n",
      "a\n"
     ]
    }
   ],
   "source": [
    "list1 = [['New York', 'London', 'Istanbul', 'Seoul', 'Sydney'], ['isa', 'Musa', 'Arda']]\n",
    "print(len(list1)) # içinde 2 liste olan listedir.\n",
    "print(list1[1][2]) # ikinci listenin 3üncü elemanı\n",
    "print(list1[0][0])  # birinci listenin birinci elemanı\n",
    "print(list1[1][2][3])"
   ]
  },
  {
   "cell_type": "code",
   "execution_count": 114,
   "metadata": {},
   "outputs": [
    {
     "data": {
      "text/plain": [
       "'n'"
      ]
     },
     "execution_count": 114,
     "metadata": {},
     "output_type": "execute_result"
    }
   ],
   "source": []
  },
  {
   "cell_type": "code",
   "execution_count": 129,
   "metadata": {},
   "outputs": [
    {
     "data": {
      "text/plain": [
       "[10, 9, 8, 7, 6, 5, 4, 3, 2, 1, 0]"
      ]
     },
     "execution_count": 129,
     "metadata": {},
     "output_type": "execute_result"
    }
   ],
   "source": [
    "list(range(10, -1, -1))"
   ]
  },
  {
   "cell_type": "code",
   "execution_count": 130,
   "metadata": {},
   "outputs": [
    {
     "name": "stdout",
     "output_type": "stream",
     "text": [
      "[0, 1, 2, 3, 4, 5, 6, 7, 8, 9, 10]\n",
      "[0, 2, 4, 6, 8, 10]\n",
      "[0, 1, 2, 3, 4, 5, 6, 7, 8, 9, 10]\n"
     ]
    }
   ],
   "source": [
    "count = list(range(11)) #11'e kadar olan sayıları listele\n",
    "print(count)\n",
    "print(count[0:11:2]) # start-en baştan  stop-11de  step-2'şer say\n",
    "print(count)"
   ]
  },
  {
   "cell_type": "code",
   "execution_count": 131,
   "metadata": {},
   "outputs": [
    {
     "name": "stdout",
     "output_type": "stream",
     "text": [
      "3\n",
      "1\n"
     ]
    }
   ],
   "source": [
    "print(len([[12, 5, 8]] [0]))  # listenin [0]ıncı indexinin [12,5,8] eleman sayısını soruyor, 3 elemanı var\n",
    "\n",
    "print(len([[12, 5, 8], [1]][1])) # listenin [1]ıncı indexinin [1] eleman sayısını soruyor, 1 elemanı var"
   ]
  },
  {
   "cell_type": "code",
   "execution_count": 137,
   "metadata": {},
   "outputs": [
    {
     "name": "stdout",
     "output_type": "stream",
     "text": [
      "love\n",
      "<class 'str'>\n"
     ]
    }
   ],
   "source": [
    "try_tuple = ('love') # iki tırnak arasındaki değer stringdir.\n",
    "                     # 'love' dan sadece virgül koyup bıraksaydık bu bir tuple olurdu. \n",
    "print(try_tuple)\n",
    "\n",
    "print(type(try_tuple)) # it's not tuple type."
   ]
  },
  {
   "cell_type": "code",
   "execution_count": 145,
   "metadata": {},
   "outputs": [
    {
     "name": "stdout",
     "output_type": "stream",
     "text": [
      "(1, 2, 3) ()\n",
      "<class 'tuple'> <class 'tuple'>\n"
     ]
    }
   ],
   "source": [
    "a = tuple([1,2,3])\n",
    "b = tuple()\n",
    "print(a,b)\n",
    "print(type(a), type(b))"
   ]
  },
  {
   "cell_type": "code",
   "execution_count": 146,
   "metadata": {},
   "outputs": [
    {
     "name": "stdout",
     "output_type": "stream",
     "text": [
      "<class 'list'> [1, 4, 3, 4, 5, 6, 7, 4]\n"
     ]
    }
   ],
   "source": [
    "my_tuple = (1, 4, 3, 4, 5, 6, 7, 4)   # tuple liste dönüşümü\n",
    "\n",
    "my_list = list(my_tuple)\n",
    "\n",
    "print(type(my_list), my_list)"
   ]
  },
  {
   "cell_type": "code",
   "execution_count": 148,
   "metadata": {},
   "outputs": [
    {
     "name": "stdout",
     "output_type": "stream",
     "text": [
      "[0, 'bird', 3.14, True, '0.jmp12']\n",
      "3.14\n"
     ]
    }
   ],
   "source": [
    "mix_value_tuple = (0, 'bird', 3.14, True, '0.jmp12')\n",
    "bb = list(mix_value_tuple )\n",
    "print(bb)\n",
    "print(mix_value_tuple[2])"
   ]
  },
  {
   "cell_type": "code",
   "execution_count": 149,
   "metadata": {},
   "outputs": [
    {
     "ename": "TypeError",
     "evalue": "'int' object is not iterable",
     "output_type": "error",
     "traceback": [
      "\u001b[1;31m---------------------------------------------------------------------------\u001b[0m",
      "\u001b[1;31mTypeError\u001b[0m                                 Traceback (most recent call last)",
      "\u001b[1;32mc:\\Users\\user\\Documents\\00-Clarusway-Django\\function.ipynb Hücre 32\u001b[0m in \u001b[0;36m<cell line: 1>\u001b[1;34m()\u001b[0m\n\u001b[1;32m----> <a href='vscode-notebook-cell:/c%3A/Users/user/Documents/00-Clarusway-Django/function.ipynb#Y102sZmlsZQ%3D%3D?line=0'>1</a>\u001b[0m \u001b[39mlist\u001b[39;49m(\u001b[39m123\u001b[39;49m)\n",
      "\u001b[1;31mTypeError\u001b[0m: 'int' object is not iterable"
     ]
    }
   ],
   "source": [
    "list(123)"
   ]
  },
  {
   "cell_type": "code",
   "execution_count": 150,
   "metadata": {},
   "outputs": [
    {
     "name": "stdout",
     "output_type": "stream",
     "text": [
      "(1, 2, 3, 4, 5, 6, 7, 8, 9, 10)\n"
     ]
    }
   ],
   "source": [
    "mytup = tuple(range(1,11))\n",
    "print(mytup)"
   ]
  },
  {
   "cell_type": "code",
   "execution_count": 151,
   "metadata": {},
   "outputs": [
    {
     "name": "stdout",
     "output_type": "stream",
     "text": [
      "fair fair\n"
     ]
    }
   ],
   "source": [
    "mix_tuple = (\"11\", 11, [2, \"two\", (\"six\",6)], (5, \"fair\"))\n",
    "fair1 = mix_tuple[3][1]\n",
    "fair2 = mix_tuple[-1][1]\n",
    "print(fair1, fair2)"
   ]
  },
  {
   "cell_type": "code",
   "execution_count": 154,
   "metadata": {},
   "outputs": [
    {
     "name": "stdout",
     "output_type": "stream",
     "text": [
      "{1: 'one', 'two': 2, False: [1, 2, 3], 1.5: ('one', 'two'), (1, 2): 'clarusway'}\n"
     ]
    }
   ],
   "source": [
    "first_dict = {1 : \"one\", \"two\" : 2, False : [1,2,3], 1.5 : (\"one\", \"two\"), (1,2) : \"clarusway\" }\n",
    "print(first_dict)"
   ]
  },
  {
   "cell_type": "code",
   "execution_count": 158,
   "metadata": {},
   "outputs": [
    {
     "data": {
      "text/plain": [
       "{'a1': 'bir'}"
      ]
     },
     "execution_count": 158,
     "metadata": {},
     "output_type": "execute_result"
    }
   ],
   "source": [
    "dict(a1 = \"bir\")"
   ]
  },
  {
   "cell_type": "code",
   "execution_count": 162,
   "metadata": {},
   "outputs": [
    {
     "name": "stdout",
     "output_type": "stream",
     "text": [
      "{'Arkansas': 'grgr', 'Colorado': 'Denver', 'California': 'Sacramento', 'Georgia': 'Atlanta', 'Virginia': 'Richmond', ' ': 'grgr'}\n"
     ]
    }
   ],
   "source": [
    "# YENİ KEY-VALUE ÇİFTİ = ITEM EKLEME\n",
    "\n",
    "state_capitals = {'Arkansas': 'Little Rock',\n",
    "                  'Colorado': 'Denver',\n",
    "                  'California': 'Sacramento',\n",
    "                  'Georgia': 'Atlanta' \n",
    "                 }\n",
    "\n",
    "state_capitals['Virginia'] = 'Richmond' # adding a new item\n",
    "state_capitals['Arkansas'] = 'grgr' # adding a new item\n",
    "state_capitals[' '] = 'grgr' # adding a new item\n",
    "\n",
    "print(state_capitals)"
   ]
  },
  {
   "cell_type": "code",
   "execution_count": 164,
   "metadata": {},
   "outputs": [
    {
     "data": {
      "text/plain": [
       "{'anne': 'demet', 'baba': 'musfa', 'kız': 'zeyno'}"
      ]
     },
     "execution_count": 164,
     "metadata": {},
     "output_type": "execute_result"
    }
   ],
   "source": [
    "family = {\n",
    "  \"anne\" : \"demet\",\n",
    "  \"baba\" : \"musfa\",\n",
    "  \"kız\" : \"zeyno\"\n",
    "}\n",
    "family"
   ]
  },
  {
   "cell_type": "code",
   "execution_count": 166,
   "metadata": {},
   "outputs": [
    {
     "data": {
      "text/plain": [
       "{'anne': 'demet', 'baba': 'musfa', 'kız': 'zeyno', 'erkek': 'emre'}"
      ]
     },
     "execution_count": 166,
     "metadata": {},
     "output_type": "execute_result"
    }
   ],
   "source": [
    "family[\"erkek\"] = \"emre\"\n",
    "family"
   ]
  },
  {
   "cell_type": "code",
   "execution_count": 167,
   "metadata": {},
   "outputs": [
    {
     "name": "stdout",
     "output_type": "stream",
     "text": [
      "dict_items([('anne', 'demet'), ('baba', 'musfa'), ('kız', 'zeyno'), ('erkek', 'emre')])\n",
      "dict_keys(['anne', 'baba', 'kız', 'erkek'])\n",
      "dict_values(['demet', 'musfa', 'zeyno', 'emre'])\n"
     ]
    }
   ],
   "source": [
    "print(family.items())\n",
    "print(family.keys())\n",
    "print(family.values())"
   ]
  },
  {
   "cell_type": "code",
   "execution_count": 168,
   "metadata": {},
   "outputs": [
    {
     "data": {
      "text/plain": [
       "{'anne': 'demet',\n",
       " 'baba': 'musfa',\n",
       " 'kız': 'zeyno',\n",
       " 'erkek': 'emre',\n",
       " 'animal': 'dog'}"
      ]
     },
     "execution_count": 168,
     "metadata": {},
     "output_type": "execute_result"
    }
   ],
   "source": [
    "family.update({\"animal\" : \"dog\"})\n",
    "family"
   ]
  },
  {
   "cell_type": "code",
   "execution_count": 169,
   "metadata": {},
   "outputs": [
    {
     "data": {
      "text/plain": [
       "{'anne': 'demet', 'baba': 'musfa', 'kız': 'zeyno', 'erkek': 'emre'}"
      ]
     },
     "execution_count": 169,
     "metadata": {},
     "output_type": "execute_result"
    }
   ],
   "source": [
    "del family[\"animal\"]\n",
    "family"
   ]
  },
  {
   "cell_type": "code",
   "execution_count": 172,
   "metadata": {},
   "outputs": [
    {
     "data": {
      "text/plain": [
       "True"
      ]
     },
     "execution_count": 172,
     "metadata": {},
     "output_type": "execute_result"
    }
   ],
   "source": [
    "\"annem\" not in family"
   ]
  },
  {
   "cell_type": "code",
   "execution_count": 175,
   "metadata": {},
   "outputs": [],
   "source": [
    "school_records={\n",
    "    \"personal_info\":\n",
    "        {\"kid\":{\"tom\": {\"class\": \"intermediate\", \"age\": 10},\n",
    "                \"sue\": {\"class\": \"elementary\", \"age\": 8}\n",
    "               },\n",
    "         \"teen\":{\"joseph\":{\"class\": \"college\", \"age\": 19},\n",
    "                 \"marry\":{\"class\": \"high school\", \"age\": 16}\n",
    "               },               \n",
    "        },\n",
    "        \n",
    "    \"grades_info\":\n",
    "        {\"kid\":{\"tom\": {\"math\": 88, \"speech\": 69},\n",
    "                \"sue\": {\"math\": 90, \"speech\": 81}\n",
    "               },\n",
    "         \"teen\":{\"joseph\":{\"coding\": 80, \"math\": 89},\n",
    "                 \"marry\":{\"coding\": 70, \"math\": 96}\n",
    "               },               \n",
    "        },        \n",
    "}"
   ]
  },
  {
   "cell_type": "code",
   "execution_count": 176,
   "metadata": {},
   "outputs": [
    {
     "data": {
      "text/plain": [
       "{'kid': {'tom': {'class': 'intermediate', 'age': 10},\n",
       "  'sue': {'class': 'elementary', 'age': 8}},\n",
       " 'teen': {'joseph': {'class': 'college', 'age': 19},\n",
       "  'marry': {'class': 'high school', 'age': 16}}}"
      ]
     },
     "execution_count": 176,
     "metadata": {},
     "output_type": "execute_result"
    }
   ],
   "source": [
    "school_records[\"personal_info\"]"
   ]
  },
  {
   "cell_type": "code",
   "execution_count": 177,
   "metadata": {},
   "outputs": [],
   "source": [
    "import json"
   ]
  },
  {
   "cell_type": "code",
   "execution_count": 183,
   "metadata": {},
   "outputs": [
    {
     "name": "stdout",
     "output_type": "stream",
     "text": [
      "{'class': 'college', 'age': 19}\n",
      "19\n"
     ]
    }
   ],
   "source": [
    "teen = '{\"class\": \"college\", \"age\": 19}'\n",
    "y = json.loads(teen)\n",
    "print(y)\n",
    "print(y[\"age\"])"
   ]
  },
  {
   "cell_type": "code",
   "execution_count": 184,
   "metadata": {},
   "outputs": [
    {
     "name": "stdout",
     "output_type": "stream",
     "text": [
      "{\"class\": \"high school\", \"age\": 16}\n"
     ]
    }
   ],
   "source": [
    "marry = {'class': 'high school', 'age': 16}\n",
    "print(json.dumps(marry))"
   ]
  },
  {
   "cell_type": "code",
   "execution_count": 190,
   "metadata": {},
   "outputs": [
    {
     "data": {
      "text/plain": [
       "{'anne': 'demet', 'kız': 'zeyno', 'erkek': 'emre', 'father': 'musfa'}"
      ]
     },
     "execution_count": 190,
     "metadata": {},
     "output_type": "execute_result"
    }
   ],
   "source": [
    "family"
   ]
  },
  {
   "cell_type": "code",
   "execution_count": 192,
   "metadata": {},
   "outputs": [
    {
     "data": {
      "text/plain": [
       "{'kız': 'zeyno', 'erkek': 'emre', 'father': 'musfa', 'mother': 'demet'}"
      ]
     },
     "execution_count": 192,
     "metadata": {},
     "output_type": "execute_result"
    }
   ],
   "source": [
    "family[\"mother\"] = family.pop(\"anne\")\n",
    "\n",
    "family"
   ]
  },
  {
   "cell_type": "code",
   "execution_count": 193,
   "metadata": {},
   "outputs": [],
   "source": [
    "dicto = {'animal': 'dog',\n",
    "                'planet': 'neptun',\n",
    "                'number': 40,\n",
    "                'pi': 3.14,\n",
    "                'is_good': True}"
   ]
  },
  {
   "cell_type": "code",
   "execution_count": 196,
   "metadata": {},
   "outputs": [
    {
     "data": {
      "text/plain": [
       "['animal', 'planet', 'number', 'pi', 'is_good']"
      ]
     },
     "execution_count": 196,
     "metadata": {},
     "output_type": "execute_result"
    }
   ],
   "source": [
    "list(dicto.keys())"
   ]
  },
  {
   "cell_type": "code",
   "execution_count": 201,
   "metadata": {},
   "outputs": [
    {
     "data": {
      "text/plain": [
       "{'kız': 'zeyno',\n",
       " 'erkek': 'emre',\n",
       " 'father': 'musfa',\n",
       " 'mother': 'demet',\n",
       " 'teyze': 'dilek',\n",
       " 'hala': 'bahar'}"
      ]
     },
     "execution_count": 201,
     "metadata": {},
     "output_type": "execute_result"
    }
   ],
   "source": [
    "family.update({\"teyze\" : \"esra\"})\n",
    "family.update({\"teyze\" : \"dilek\"})\n",
    "family.update({\"hala\" : \"bahar\"})\n",
    "family"
   ]
  },
  {
   "cell_type": "code",
   "execution_count": 205,
   "metadata": {},
   "outputs": [
    {
     "name": "stdout",
     "output_type": "stream",
     "text": [
      "[2, 3, 4]\n",
      "not yok\n",
      "yok\n"
     ]
    }
   ],
   "source": [
    "pairs = {1: \"apple\",\n",
    "    \"orange\": [2, 3, 4], \n",
    "    True: False, \n",
    "    None: \"True\",\n",
    "}\n",
    "\n",
    "print(pairs.get(\"orange\", \"not in dictionary\"))\n",
    "print(pairs.get(7, \"not yok\"))\n",
    "print(pairs.get(12345, \"yok\"))"
   ]
  },
  {
   "cell_type": "code",
   "execution_count": 206,
   "metadata": {},
   "outputs": [],
   "source": [
    "books = {\n",
    "    \"Life of Pi\": \"Adventure Fiction\", \n",
    "    \"The Three Musketeers\": \"Historical Adventure\",\n",
    "    \"Watchmen\": \"Comics\", \n",
    "    \"Bird Box\": \"Horror\",\n",
    "    \"Harry Potter\":\"Fantasy Fiction\",\n",
    "    \"Good Omens\": \"Comedy\"\n",
    "}"
   ]
  },
  {
   "cell_type": "code",
   "execution_count": 212,
   "metadata": {},
   "outputs": [
    {
     "name": "stdout",
     "output_type": "stream",
     "text": [
      "Book not found\n",
      "Book not found\n"
     ]
    }
   ],
   "source": [
    "book = input(\"book name:\")\n",
    "if book in books:\n",
    "      print(\"Type of\" , book, \"is\" ,books[book])\n",
    "else:\n",
    "    print(\"Book not found\")\n",
    "  \n",
    "print(books.get(book, \"Book not found\"))"
   ]
  },
  {
   "cell_type": "code",
   "execution_count": 3,
   "metadata": {},
   "outputs": [
    {
     "ename": "ValueError",
     "evalue": "invalid literal for int() with base 10: 'ten'",
     "output_type": "error",
     "traceback": [
      "\u001b[1;31m---------------------------------------------------------------------------\u001b[0m",
      "\u001b[1;31mValueError\u001b[0m                                Traceback (most recent call last)",
      "\u001b[1;32mc:\\Users\\user\\Documents\\00-Clarusway-Django\\function.ipynb Hücre 57\u001b[0m in \u001b[0;36m<cell line: 1>\u001b[1;34m()\u001b[0m\n\u001b[1;32m----> <a href='vscode-notebook-cell:/c%3A/Users/user/Documents/00-Clarusway-Django/function.ipynb#Y114sZmlsZQ%3D%3D?line=0'>1</a>\u001b[0m \u001b[39mprint\u001b[39m(\u001b[39mint\u001b[39;49m(\u001b[39m\"\u001b[39;49m\u001b[39mten\u001b[39;49m\u001b[39m\"\u001b[39;49m))\n",
      "\u001b[1;31mValueError\u001b[0m: invalid literal for int() with base 10: 'ten'"
     ]
    }
   ],
   "source": [
    "print(int(\"ten\"))"
   ]
  },
  {
   "cell_type": "code",
   "execution_count": 8,
   "metadata": {},
   "outputs": [
    {
     "name": "stdout",
     "output_type": "stream",
     "text": [
      "wrong invalid literal for int() with base 10: 'ten'\n"
     ]
    }
   ],
   "source": [
    "try:\n",
    "  print(int(\"ten\"))\n",
    "except ValueError as e:\n",
    "  print(f\"wrong {e}\")"
   ]
  },
  {
   "cell_type": "code",
   "execution_count": 7,
   "metadata": {},
   "outputs": [
    {
     "name": "stdout",
     "output_type": "stream",
     "text": [
      "Ben birinci kod satırıyım.\n",
      "Bir şeyler ters gitti.\n"
     ]
    }
   ],
   "source": [
    "try : \n",
    "    print(\"Ben birinci kod satırıyım.\") # Exception hatası olduğu için hatalı koda kadar çalışır.\n",
    "    x = 2/0\n",
    "    print(\"Bende sıkıntı yokmuş demek ki bak çalıştım.\")\n",
    "except :\n",
    "    print(\"Bir şeyler ters gitti.\")"
   ]
  },
  {
   "cell_type": "code",
   "execution_count": 12,
   "metadata": {},
   "outputs": [
    {
     "name": "stdout",
     "output_type": "stream",
     "text": [
      "name 'X' is not defined\n"
     ]
    }
   ],
   "source": [
    "x = 10\n",
    "y = 20\n",
    "\n",
    "try:\n",
    "  print(X)\n",
    "except Exception as e:\n",
    "  print(e)"
   ]
  },
  {
   "cell_type": "code",
   "execution_count": 25,
   "metadata": {},
   "outputs": [
    {
     "name": "stdout",
     "output_type": "stream",
     "text": [
      "0\n",
      "[250.0, 125.0, 83.33333333333333, 50.0, 31.25, 27.77777777777778, 12.5]\n"
     ]
    }
   ],
   "source": [
    "num_1 = 250\n",
    "num_2 = [1, 2, 3, 5, 0, 8, 9, 20]\n",
    "res_list = []\n",
    "\n",
    "\n",
    "for i in num_2:\n",
    "  try:\n",
    "    res_list.append(num_1/i)\n",
    "  except Exception as e:\n",
    "    print(i)\n",
    "\n",
    "print(res_list)\n",
    "\n"
   ]
  },
  {
   "cell_type": "code",
   "execution_count": null,
   "metadata": {},
   "outputs": [],
   "source": [
    "try:\n",
    "  res = num_1 / num_2\n",
    "  print(res)\n",
    "except ZeroDivisionError as e:\n",
    "  print(e)\n"
   ]
  }
 ],
 "metadata": {
  "kernelspec": {
   "display_name": "Python 3",
   "language": "python",
   "name": "python3"
  },
  "language_info": {
   "codemirror_mode": {
    "name": "ipython",
    "version": 3
   },
   "file_extension": ".py",
   "mimetype": "text/x-python",
   "name": "python",
   "nbconvert_exporter": "python",
   "pygments_lexer": "ipython3",
   "version": "3.10.4"
  },
  "orig_nbformat": 4,
  "vscode": {
   "interpreter": {
    "hash": "fb4569285eef3a3450cb62085a5b1e0da4bce0af555edc33dcf29baf3acc1368"
   }
  }
 },
 "nbformat": 4,
 "nbformat_minor": 2
}
